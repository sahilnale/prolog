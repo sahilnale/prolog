{
  "nbformat": 4,
  "nbformat_minor": 0,
  "metadata": {
    "colab": {
      "provenance": [],
      "authorship_tag": "ABX9TyNVzwgEx7OWWZbQ4BHLS0ig",
      "include_colab_link": true
    },
    "kernelspec": {
      "name": "python3",
      "display_name": "Python 3"
    },
    "language_info": {
      "name": "python"
    }
  },
  "cells": [
    {
      "cell_type": "markdown",
      "metadata": {
        "id": "view-in-github",
        "colab_type": "text"
      },
      "source": [
        "<a href=\"https://colab.research.google.com/github/sahilnale/prolog/blob/main/Prolog_Queries.ipynb\" target=\"_parent\"><img src=\"https://colab.research.google.com/assets/colab-badge.svg\" alt=\"Open In Colab\"/></a>"
      ]
    },
    {
      "cell_type": "code",
      "source": [
        "!pip install pyDatalog"
      ],
      "metadata": {
        "colab": {
          "base_uri": "https://localhost:8080/"
        },
        "id": "W44hTVh6Ci95",
        "outputId": "9a83c2bd-cfec-4d90-b043-b405a0ab48fa"
      },
      "execution_count": null,
      "outputs": [
        {
          "output_type": "stream",
          "name": "stdout",
          "text": [
            "Collecting pyDatalog\n",
            "  Downloading pyDatalog-0.17.4-cp310-cp310-manylinux_2_17_x86_64.manylinux2014_x86_64.whl (1.8 MB)\n",
            "\u001b[2K     \u001b[90m━━━━━━━━━━━━━━━━━━━━━━━━━━━━━━━━━━━━━━━━\u001b[0m \u001b[32m1.8/1.8 MB\u001b[0m \u001b[31m15.5 MB/s\u001b[0m eta \u001b[36m0:00:00\u001b[0m\n",
            "\u001b[?25hInstalling collected packages: pyDatalog\n",
            "Successfully installed pyDatalog-0.17.4\n"
          ]
        }
      ]
    },
    {
      "cell_type": "code",
      "execution_count": null,
      "metadata": {
        "colab": {
          "base_uri": "https://localhost:8080/"
        },
        "id": "CMEz55DJCfNc",
        "outputId": "2ef46531-2fdc-465f-f645-bffb7f419ee8"
      },
      "outputs": [
        {
          "output_type": "stream",
          "name": "stdout",
          "text": [
            "All Grandparents:\n",
            "X    | Y    \n",
            "-----|------\n",
            "john | anna \n",
            "john | mark \n",
            "john | tom  \n",
            "john | susan\n",
            "\n",
            "Is John a grandparent of Susan?\n",
            "[()]\n",
            "\n",
            "Children of Mary:\n",
            "X    \n",
            "-----\n",
            "tom  \n",
            "susan\n",
            "\n",
            "Male children of Mary:\n",
            "X  \n",
            "---\n",
            "tom\n",
            "\n",
            "Female grandchildren of John:\n",
            "X    \n",
            "-----\n",
            "susan\n",
            "anna \n"
          ]
        }
      ],
      "source": [
        "from pyDatalog import pyDatalog\n",
        "\n",
        "# Initialize pyDatalog\n",
        "pyDatalog.create_terms('X, Y, Z, parent, male, female, grandparent')\n",
        "\n",
        "# Facts\n",
        "+parent('john', 'mary')\n",
        "+parent('john', 'paul')\n",
        "+parent('mary', 'susan')\n",
        "+parent('mary', 'tom')\n",
        "+parent('paul', 'anna')\n",
        "+parent('paul', 'mark')\n",
        "\n",
        "+male('john')\n",
        "+male('paul')\n",
        "+male('tom')\n",
        "+male('mark')\n",
        "\n",
        "+female('mary')\n",
        "+female('susan')\n",
        "+female('anna')\n",
        "\n",
        "# Rule\n",
        "grandparent(X, Y) <= parent(X, Z) & parent(Z, Y)\n",
        "\n",
        "# Queries\n",
        "\n",
        "# Find all grandparents\n",
        "print('All Grandparents:')\n",
        "print(grandparent(X, Y))\n",
        "\n",
        "# Check if John is a grandparent of Susan\n",
        "print('\\nIs John a grandparent of Susan?')\n",
        "print(grandparent('john', 'susan'))\n",
        "\n",
        "# Find all children of Mary\n",
        "print('\\nChildren of Mary:')\n",
        "print(parent('mary', X))\n",
        "\n",
        "# Find all male children of Mary\n",
        "print('\\nMale children of Mary:')\n",
        "print((parent('mary', X) & male(X)))\n",
        "\n",
        "# Find all female grandchildren of John\n",
        "print('\\nFemale grandchildren of John:')\n",
        "print((grandparent('john', X) & female(X)))\n"
      ]
    }
  ]
}