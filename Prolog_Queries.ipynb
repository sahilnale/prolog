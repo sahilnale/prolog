{
  "nbformat": 4,
  "nbformat_minor": 0,
  "metadata": {
    "colab": {
      "provenance": [],
      "authorship_tag": "ABX9TyMeh2O57mewe1rU0+65/oFx",
      "include_colab_link": true
    },
    "kernelspec": {
      "name": "python3",
      "display_name": "Python 3"
    },
    "language_info": {
      "name": "python"
    }
  },
  "cells": [
    {
      "cell_type": "markdown",
      "metadata": {
        "id": "view-in-github",
        "colab_type": "text"
      },
      "source": [
        "<a href=\"https://colab.research.google.com/github/sahilnale/prolog/blob/main/Prolog_Queries.ipynb\" target=\"_parent\"><img src=\"https://colab.research.google.com/assets/colab-badge.svg\" alt=\"Open In Colab\"/></a>"
      ]
    },
    {
      "cell_type": "code",
      "source": [
        "!pip install pyDatalog"
      ],
      "metadata": {
        "colab": {
          "base_uri": "https://localhost:8080/"
        },
        "id": "W44hTVh6Ci95",
        "outputId": "462fe179-9aee-49d4-aeb7-8acd178cb11d"
      },
      "execution_count": 2,
      "outputs": [
        {
          "output_type": "stream",
          "name": "stdout",
          "text": [
            "Collecting pyDatalog\n",
            "  Downloading pyDatalog-0.17.4-cp310-cp310-manylinux_2_17_x86_64.manylinux2014_x86_64.whl (1.8 MB)\n",
            "\u001b[2K     \u001b[90m━━━━━━━━━━━━━━━━━━━━━━━━━━━━━━━━━━━━━━━━\u001b[0m \u001b[32m1.8/1.8 MB\u001b[0m \u001b[31m6.4 MB/s\u001b[0m eta \u001b[36m0:00:00\u001b[0m\n",
            "\u001b[?25hInstalling collected packages: pyDatalog\n",
            "Successfully installed pyDatalog-0.17.4\n"
          ]
        }
      ]
    },
    {
      "cell_type": "code",
      "execution_count": 4,
      "metadata": {
        "colab": {
          "base_uri": "https://localhost:8080/"
        },
        "id": "CMEz55DJCfNc",
        "outputId": "ace8b0ef-0a17-483a-f7a2-b03ecff2ea76"
      },
      "outputs": [
        {
          "output_type": "stream",
          "name": "stdout",
          "text": [
            "All Grandparents:\n",
            "X    | Y     \n",
            "-----|-------\n",
            "paul | lucas \n",
            "paul | nina  \n",
            "mary | oliver\n",
            "mary | emma  \n",
            "john | mark  \n",
            "john | anna  \n",
            "john | susan \n",
            "john | tom   \n",
            "\n",
            "Is John a grandparent of Emma?\n",
            "[]\n",
            "\n",
            "Children of Mary:\n",
            "X    \n",
            "-----\n",
            "susan\n",
            "tom  \n",
            "\n",
            "Male children of Mary:\n",
            "X  \n",
            "---\n",
            "tom\n",
            "\n",
            "Female grandchildren of John:\n",
            "X    \n",
            "-----\n",
            "anna \n",
            "susan\n",
            "\n",
            "Siblings of Anna:\n",
            "X   \n",
            "----\n",
            "mark\n",
            "\n",
            "Cousins of Emma:\n",
            "X     \n",
            "------\n",
            "oliver\n"
          ]
        }
      ],
      "source": [
        "from pyDatalog import pyDatalog\n",
        "\n",
        "# Initialize pyDatalog\n",
        "pyDatalog.create_terms('X, Y, Z, Z1, Z2, parent, male, female, grandparent, sibling, cousin')\n",
        "\n",
        "# Facts\n",
        "+parent('john', 'mary')\n",
        "+parent('john', 'paul')\n",
        "+parent('mary', 'susan')\n",
        "+parent('mary', 'tom')\n",
        "+parent('paul', 'anna')\n",
        "+parent('paul', 'mark')\n",
        "+parent('susan', 'emma')\n",
        "+parent('tom', 'oliver')\n",
        "+parent('anna', 'lucas')\n",
        "+parent('anna', 'nina')\n",
        "\n",
        "+male('john')\n",
        "+male('paul')\n",
        "+male('tom')\n",
        "+male('mark')\n",
        "+male('oliver')\n",
        "+male('lucas')\n",
        "\n",
        "+female('mary')\n",
        "+female('susan')\n",
        "+female('anna')\n",
        "+female('emma')\n",
        "+female('nina')\n",
        "\n",
        "# Rules\n",
        "grandparent(X, Y) <= parent(X, Z) & parent(Z, Y)\n",
        "sibling(X, Y) <= parent(Z, X) & parent(Z, Y) & (X != Y)\n",
        "cousin(X, Y) <= parent(Z1, X) & parent(Z2, Y) & sibling(Z1, Z2)\n",
        "\n",
        "# Queries\n",
        "\n",
        "# Find all grandparents\n",
        "print('All Grandparents:')\n",
        "print(grandparent(X, Y))\n",
        "\n",
        "# Check if John is a grandparent of Emma\n",
        "print('\\nIs John a grandparent of Emma?')\n",
        "print(grandparent('john', 'emma'))\n",
        "\n",
        "# Find all children of Mary\n",
        "print('\\nChildren of Mary:')\n",
        "print(parent('mary', X))\n",
        "\n",
        "# Find all male children of Mary\n",
        "print('\\nMale children of Mary:')\n",
        "print((parent('mary', X) & male(X)))\n",
        "\n",
        "# Find all female grandchildren of John\n",
        "print('\\nFemale grandchildren of John:')\n",
        "print((grandparent('john', X) & female(X)))\n",
        "\n",
        "# Find all siblings of Anna\n",
        "print('\\nSiblings of Anna:')\n",
        "print(sibling('anna', X))\n",
        "\n",
        "# Find all cousins of Emma\n",
        "print('\\nCousins of Emma:')\n",
        "print(cousin('emma', X))\n"
      ]
    }
  ]
}